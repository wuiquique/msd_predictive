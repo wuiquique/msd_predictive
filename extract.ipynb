{
 "cells": [
  {
   "cell_type": "code",
   "execution_count": 35,
   "metadata": {},
   "outputs": [],
   "source": [
    "import requests\n",
    "import numpy as np"
   ]
  },
  {
   "cell_type": "code",
   "execution_count": null,
   "metadata": {},
   "outputs": [],
   "source": [
    "list = []\n",
    "\n",
    "while (len(list) <= 200):\n",
    "    response = requests.get(\"https://europe-west1-randommusicgenerator-34646.cloudfunctions.net/app/getRandomTrack?genre=random&market=random&decade=2010s&tag_new=false&exclude_singles=false\")\n",
    "    response_json = response.json()\n",
    "    print(len(list))\n",
    "    print(response_json)\n",
    "    print(\"\")\n",
    "    if (\"error\" not in response_json and response.status_code == 200):\n",
    "        list.append(response_json[\"id\"])\n",
    "    else:\n",
    "        pass\n",
    "\n",
    "print(list)"
   ]
  },
  {
   "cell_type": "code",
   "execution_count": null,
   "metadata": {},
   "outputs": [],
   "source": [
    "print(list)"
   ]
  },
  {
   "cell_type": "code",
   "execution_count": 38,
   "metadata": {},
   "outputs": [],
   "source": [
    "np.save('ids6.npy', list)"
   ]
  },
  {
   "cell_type": "code",
   "execution_count": null,
   "metadata": {},
   "outputs": [],
   "source": [
    "array_cargado = np.load('RandomSongsIds.npy')\n",
    "\n",
    "print(len(array_cargado))"
   ]
  }
 ],
 "metadata": {
  "kernelspec": {
   "display_name": ".venv",
   "language": "python",
   "name": "python3"
  },
  "language_info": {
   "codemirror_mode": {
    "name": "ipython",
    "version": 3
   },
   "file_extension": ".py",
   "mimetype": "text/x-python",
   "name": "python",
   "nbconvert_exporter": "python",
   "pygments_lexer": "ipython3",
   "version": "3.9.6"
  }
 },
 "nbformat": 4,
 "nbformat_minor": 2
}
