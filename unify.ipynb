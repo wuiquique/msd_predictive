{
 "cells": [
  {
   "cell_type": "code",
   "execution_count": 1,
   "metadata": {},
   "outputs": [],
   "source": [
    "import pandas as pd\n",
    "import os"
   ]
  },
  {
   "cell_type": "code",
   "execution_count": 2,
   "metadata": {},
   "outputs": [],
   "source": [
    "carpeta_csv = '../msd_data'"
   ]
  },
  {
   "cell_type": "code",
   "execution_count": 6,
   "metadata": {},
   "outputs": [
    {
     "name": "stdout",
     "output_type": "stream",
     "text": [
      "26\n",
      "['W.csv', 'V.csv', 'A.csv', 'C.csv', 'T.csv', 'U.csv', 'B.csv', 'Q.csv', 'F.csv', 'G.csv', 'P.csv', 'R.csv', 'E.csv', 'D.csv', 'S.csv', 'I.csv', 'H.csv', 'J.csv', 'K.csv', 'O.csv', 'X.csv', 'Y.csv', 'N.csv', 'L.csv', 'Z.csv', 'M.csv']\n"
     ]
    }
   ],
   "source": [
    "archivos_csv = [f for f in os.listdir(carpeta_csv) if f.endswith('.csv')]\n",
    "\n",
    "print(len(archivos_csv))\n",
    "print(archivos_csv)"
   ]
  },
  {
   "cell_type": "code",
   "execution_count": 7,
   "metadata": {},
   "outputs": [],
   "source": [
    "df_list = []\n",
    "for archivo in archivos_csv:\n",
    "    ruta_completa = os.path.join(carpeta_csv, archivo)\n",
    "    df = pd.read_csv(ruta_completa)\n",
    "    df_list.append(df)"
   ]
  },
  {
   "cell_type": "code",
   "execution_count": 8,
   "metadata": {},
   "outputs": [],
   "source": [
    "df_concat = pd.concat(df_list, ignore_index=True)"
   ]
  },
  {
   "cell_type": "code",
   "execution_count": 9,
   "metadata": {},
   "outputs": [],
   "source": [
    "df_concat.to_csv('../msd_full.csv', index=False)"
   ]
  }
 ],
 "metadata": {
  "kernelspec": {
   "display_name": ".venv",
   "language": "python",
   "name": "python3"
  },
  "language_info": {
   "codemirror_mode": {
    "name": "ipython",
    "version": 3
   },
   "file_extension": ".py",
   "mimetype": "text/x-python",
   "name": "python",
   "nbconvert_exporter": "python",
   "pygments_lexer": "ipython3",
   "version": "3.12.3"
  }
 },
 "nbformat": 4,
 "nbformat_minor": 2
}
