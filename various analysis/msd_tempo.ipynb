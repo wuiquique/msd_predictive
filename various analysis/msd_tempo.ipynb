{
 "cells": [
  {
   "cell_type": "code",
   "execution_count": 1,
   "metadata": {},
   "outputs": [],
   "source": [
    "import pandas as pd"
   ]
  },
  {
   "cell_type": "code",
   "execution_count": null,
   "metadata": {},
   "outputs": [],
   "source": [
    "df = pd.read_csv('../../msd_full.csv')"
   ]
  },
  {
   "cell_type": "code",
   "execution_count": null,
   "metadata": {},
   "outputs": [],
   "source": [
    "df['duration'] = df['duration'] * 1000"
   ]
  },
  {
   "cell_type": "markdown",
   "metadata": {},
   "source": [
    "### Tempo Classification\n",
    "\n",
    "| Code     | Name    | Tempo |\n",
    "| -------- | ------- | ----- |\n",
    "| 1 | Grave | 20-40 BPM |\n",
    "| 2 | Lento | 40-45 BPM |\n",
    "| 3 | Largo | 45-50 BPM |\n",
    "| 4 | Adagio | 55-65 BPM |\n",
    "| 5 | Adagietto | 65-69 BPM |\n",
    "| 6 | Andante | 70-77 BPM |\n",
    "| 7 | Moderato | 78-97 BPM |\n",
    "| 8 | Allegretto | 98-109 BPM |\n",
    "| 9 | Allegro | 110-132 BPM |\n",
    "| 10 | Vivace | 133-140 BPM |\n",
    "| 11 | Presto | 141-177 BPM |\n",
    "| 12 | Prestissimo | 178+ BPM |"
   ]
  },
  {
   "cell_type": "code",
   "execution_count": null,
   "metadata": {},
   "outputs": [],
   "source": [
    "df['tempo'] = "
   ]
  }
 ],
 "metadata": {
  "kernelspec": {
   "display_name": ".venv",
   "language": "python",
   "name": "python3"
  },
  "language_info": {
   "codemirror_mode": {
    "name": "ipython",
    "version": 3
   },
   "file_extension": ".py",
   "mimetype": "text/x-python",
   "name": "python",
   "nbconvert_exporter": "python",
   "pygments_lexer": "ipython3",
   "version": "3.12.3"
  }
 },
 "nbformat": 4,
 "nbformat_minor": 2
}
